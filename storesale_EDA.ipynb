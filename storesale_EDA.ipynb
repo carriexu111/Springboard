{
 "cells": [
  {
   "cell_type": "markdown",
   "id": "a18becae",
   "metadata": {},
   "source": [
    "# Store Sales - Time Series Forecasting"
   ]
  },
  {
   "cell_type": "markdown",
   "id": "b1ca988d",
   "metadata": {},
   "source": [
    "## EDA"
   ]
  },
  {
   "cell_type": "code",
   "execution_count": null,
   "id": "57d5f990",
   "metadata": {},
   "outputs": [],
   "source": [
    "# BASE\n",
    "# ------------------------------------------------------\n",
    "import numpy as np\n",
    "import pandas as pd\n",
    "import os\n",
    "import gc\n",
    "import warnings\n",
    "\n",
    "# PACF - ACF\n",
    "# ------------------------------------------------------\n",
    "import statsmodels.api as sm\n",
    "\n",
    "# DATA VISUALIZATION\n",
    "# ------------------------------------------------------\n",
    "import matplotlib.pyplot as plt\n",
    "import seaborn as sns\n",
    "import plotly.express as px\n",
    "\n",
    "\n",
    "# CONFIGURATIONS\n",
    "# ------------------------------------------------------\n",
    "pd.set_option('display.max_columns', None)\n",
    "pd.options.display.float_format = '{:.2f}'.format\n",
    "warnings.filterwarnings('ignore')"
   ]
  },
  {
   "cell_type": "code",
   "execution_count": null,
   "id": "a62720cc",
   "metadata": {},
   "outputs": [],
   "source": [
    "train = pd.read_csv(\"train.csv\")\n",
    "test = pd.read_csv(\"test.csv\")\n",
    "stores = pd.read_csv(\"stores.csv\") \n",
    "transactions = pd.read_csv(\"transactions.csv\").sort_values([\"store_nbr\", \"date\"])"
   ]
  },
  {
   "cell_type": "code",
   "execution_count": null,
   "id": "4426ccbf",
   "metadata": {},
   "outputs": [],
   "source": [
    "transactions.head(10)"
   ]
  },
  {
   "cell_type": "code",
   "execution_count": null,
   "id": "2f57bfd9",
   "metadata": {},
   "outputs": [],
   "source": [
    "temp = pd.merge(train.groupby([\"date\", \"store_nbr\"]).sales.sum().reset_index(), transactions, how = \"left\")\n",
    "print(\"Spearman Correlation between Total Sales and Transactions: {:,.4f}\".format(temp.corr(\"spearman\").sales.loc[\"transactions\"]))\n",
    "px.line(transactions.sort_values([\"store_nbr\", \"date\"]), x='date', y='transactions', color='store_nbr',title = \"Transactions\" )"
   ]
  },
  {
   "cell_type": "markdown",
   "id": "2cb89ab1",
   "metadata": {},
   "source": [
    "There is a stable pattern in Transaction. All months are similar except December from 2013 to 2017 by boxplot. In addition, we've just seen same pattern for each store in previous plot. Store sales had always increased at the end of the year."
   ]
  },
  {
   "cell_type": "code",
   "execution_count": null,
   "id": "b6b7be40",
   "metadata": {},
   "outputs": [],
   "source": [
    "a = transactions.copy()\n",
    "a[\"year\"] = a.date.dt.year\n",
    "a[\"month\"] = a.date.dt.month\n",
    "px.box(a, x=\"year\", y=\"transactions\" , color = \"month\", title = \"Transactions\")"
   ]
  },
  {
   "cell_type": "markdown",
   "id": "38d3e999",
   "metadata": {},
   "source": [
    "Let's take a look at transactions by using monthly average sales!\n",
    "We've just learned a pattern what increases sales. It was the end of the year. We can see that transactions increase in spring and decrease after spring."
   ]
  },
  {
   "cell_type": "code",
   "execution_count": null,
   "id": "e0efe144",
   "metadata": {},
   "outputs": [],
   "source": [
    "a = transactions.set_index(\"date\").resample(\"M\").transactions.mean().reset_index()\n",
    "a[\"year\"] = a.date.dt.year\n",
    "px.line(a, x='date', y='transactions', color='year',title = \"Monthly Average Transactions\" )"
   ]
  },
  {
   "cell_type": "markdown",
   "id": "f789cb90",
   "metadata": {},
   "source": [
    "there is a highly correlation between total sales and transactions also."
   ]
  },
  {
   "cell_type": "code",
   "execution_count": null,
   "id": "a1734728",
   "metadata": {},
   "outputs": [],
   "source": [
    "px.scatter(temp, x = \"transactions\", y = \"sales\", trendline = \"ols\", trendline_color_override = \"red\")"
   ]
  },
  {
   "cell_type": "markdown",
   "id": "f47b078d",
   "metadata": {},
   "source": [
    "Let's take a look at the days of week for shopping. It shows that stores make more transactions at weekends. Almost, the patterns are same from 2013 to 2017 and Saturday is the most important day for shopping."
   ]
  },
  {
   "cell_type": "code",
   "execution_count": null,
   "id": "530a128a",
   "metadata": {},
   "outputs": [],
   "source": [
    "a = transactions.copy()\n",
    "a[\"year\"] = a.date.dt.year\n",
    "a[\"dayofweek\"] = a.date.dt.dayofweek+1\n",
    "a = a.groupby([\"year\", \"dayofweek\"]).transactions.mean().reset_index()\n",
    "px.line(a, x=\"dayofweek\", y=\"transactions\" , color = \"year\", title = \"Transactions\")"
   ]
  },
  {
   "cell_type": "markdown",
   "id": "59e1d579",
   "metadata": {},
   "source": [
    "### Oil data\n",
    "There are some missing data points in the daily oil data as you can see below. You can treat the data by using various imputation methods. However, I chose a simple solution for that. Linear Interpolation is suitable for this time serie. You can see the trend and predict missing data points, when you look at a time serie plot of oil price."
   ]
  },
  {
   "cell_type": "code",
   "execution_count": null,
   "id": "16fea93a",
   "metadata": {},
   "outputs": [],
   "source": [
    "# Import \n",
    "oil = pd.read_csv(\"oil.csv\")\n",
    "oil[\"date\"] = pd.to_datetime(oil.date)\n",
    "oil.head()"
   ]
  },
  {
   "cell_type": "code",
   "execution_count": null,
   "id": "360bf563",
   "metadata": {},
   "outputs": [],
   "source": [
    "# Resample\n",
    "oil = oil.set_index(\"date\").dcoilwtico.resample(\"D\").sum().reset_index()\n",
    "# Interpolate\n",
    "oil[\"dcoilwtico\"] = np.where(oil[\"dcoilwtico\"] == 0, np.nan, oil[\"dcoilwtico\"])\n",
    "oil[\"dcoilwtico_interpolated\"] =oil.dcoilwtico.interpolate()\n",
    "# Plot\n",
    "p = oil.melt(id_vars=['date']+list(oil.keys()[5:]), var_name='Legend')\n",
    "px.line(p.sort_values([\"Legend\", \"date\"], ascending = [False, True]), x='date', y='value', color='Legend',title = \"Daily Oil Price\" )"
   ]
  },
  {
   "cell_type": "markdown",
   "id": "2d9341ac",
   "metadata": {},
   "source": [
    "Let's take a look at the correlation with Daily Oil Prices for sales and transactions.\n",
    "The correlation values are not strong but the sign of sales is negative. We can imagine that if daily oil price is high, we expect that the Ecuador's economy is bad and it means the price of product increases and sales decreases. There is a negative relationship here."
   ]
  },
  {
   "cell_type": "code",
   "execution_count": null,
   "id": "4ce0297f",
   "metadata": {},
   "outputs": [],
   "source": [
    "temp = pd.merge(temp, oil, how = \"left\")\n",
    "print(\"Correlation with Daily Oil Prices\")\n",
    "print(temp.drop([\"store_nbr\", \"dcoilwtico\"], axis = 1).corr(\"spearman\").dcoilwtico_interpolated.loc[[\"sales\", \"transactions\"]], \"\\n\")\n",
    "\n",
    "\n",
    "fig, axes = plt.subplots(1, 2, figsize = (15,5))\n",
    "temp.plot.scatter(x = \"dcoilwtico_interpolated\", y = \"transactions\", ax=axes[0])\n",
    "temp.plot.scatter(x = \"dcoilwtico_interpolated\", y = \"sales\", ax=axes[1], color = \"r\")\n",
    "axes[0].set_title('Daily oil price & Transactions', fontsize = 15)\n",
    "axes[1].set_title('Daily Oil Price & Sales', fontsize = 15);"
   ]
  },
  {
   "cell_type": "markdown",
   "id": "ccc389d7",
   "metadata": {},
   "source": [
    "### Sales"
   ]
  },
  {
   "cell_type": "markdown",
   "id": "e2f4c9a4",
   "metadata": {},
   "source": [
    "Most of the stores are similar to each other, when we examine them with correlation matrix. Some stores, such as 20, 21, 22, and 52 may be a little different."
   ]
  },
  {
   "cell_type": "code",
   "execution_count": null,
   "id": "8269ec7f",
   "metadata": {},
   "outputs": [],
   "source": [
    "a = train[[\"store_nbr\", \"sales\"]]\n",
    "a[\"ind\"] = 1\n",
    "a[\"ind\"] = a.groupby(\"store_nbr\").ind.cumsum().values\n",
    "a = pd.pivot(a, index = \"ind\", columns = \"store_nbr\", values = \"sales\").corr()\n",
    "mask = np.triu(a.corr())\n",
    "plt.figure(figsize=(20, 20))\n",
    "sns.heatmap(a,\n",
    "        annot=True,\n",
    "        fmt='.1f',\n",
    "        cmap='coolwarm',\n",
    "        square=True,\n",
    "        mask=mask,\n",
    "        linewidths=1,\n",
    "        cbar=False)\n",
    "plt.title(\"Correlations among stores\",fontsize = 20)\n",
    "plt.show()"
   ]
  },
  {
   "cell_type": "code",
   "execution_count": null,
   "id": "42d1d373",
   "metadata": {},
   "outputs": [],
   "source": [
    "a = train.set_index(\"date\").groupby(\"store_nbr\").resample(\"D\").sales.sum().reset_index()\n",
    "px.line(a, x = \"date\", y= \"sales\", color = \"store_nbr\", title = \"Daily total sales of the stores\")"
   ]
  },
  {
   "cell_type": "markdown",
   "id": "edfec9c2",
   "metadata": {},
   "source": [
    "I realized some unnecessary rows in the data while I was looking at the time serie of the stores one by one. If you select the stores from above, some of them have no sales at the beginning of 2013. You can see them, if you look at the those stores 20, 21, 22, 29, 36, 42, 52 and 53. I decided to remove those rows before the stores opened. In the following codes, we will get rid of them."
   ]
  },
  {
   "cell_type": "code",
   "execution_count": null,
   "id": "2e6d1c76",
   "metadata": {},
   "outputs": [],
   "source": [
    "print(train.shape)\n",
    "train = train[~((train.store_nbr == 52) & (train.date < \"2017-04-20\"))]\n",
    "train = train[~((train.store_nbr == 22) & (train.date < \"2015-10-09\"))]\n",
    "train = train[~((train.store_nbr == 42) & (train.date < \"2015-08-21\"))]\n",
    "train = train[~((train.store_nbr == 21) & (train.date < \"2015-07-24\"))]\n",
    "train = train[~((train.store_nbr == 29) & (train.date < \"2015-03-20\"))]\n",
    "train = train[~((train.store_nbr == 20) & (train.date < \"2015-02-13\"))]\n",
    "train = train[~((train.store_nbr == 53) & (train.date < \"2014-05-29\"))]\n",
    "train = train[~((train.store_nbr == 36) & (train.date < \"2013-05-09\"))]"
   ]
  },
  {
   "cell_type": "markdown",
   "id": "ff1839db",
   "metadata": {},
   "source": [
    "Some stores don't sell some product families. In the following code, you can see which products aren't sold in which stores. It isn't difficult to forecast them next 15 days. Their forecasts must be 0 next 15 days.\n",
    "\n",
    "I will remove them from the data and create a new data frame for product families which never sell. Then, when we are at submission part, I will combine that data frame with our predictions."
   ]
  },
  {
   "cell_type": "code",
   "execution_count": null,
   "id": "8ab5db82",
   "metadata": {},
   "outputs": [],
   "source": [
    "c = train.groupby([\"store_nbr\", \"family\"]).sales.sum().reset_index().sort_values([\"family\",\"store_nbr\"])\n",
    "c = c[c.sales == 0]\n",
    "c"
   ]
  },
  {
   "cell_type": "code",
   "execution_count": null,
   "id": "40ced6c9",
   "metadata": {},
   "outputs": [],
   "source": [
    "print(train.shape)\n",
    "# Anti Join\n",
    "outer_join = train.merge(c[c.sales == 0].drop(\"sales\",axis = 1), how = 'outer', indicator = True)\n",
    "train = outer_join[~(outer_join._merge == 'both')].drop('_merge', axis = 1)\n",
    "del outer_join\n",
    "gc.collect()\n",
    "train.shape"
   ]
  },
  {
   "cell_type": "code",
   "execution_count": null,
   "id": "eb88c709",
   "metadata": {},
   "outputs": [],
   "source": [
    "zero_prediction = []\n",
    "for i in range(0,len(c)):\n",
    "    zero_prediction.append(\n",
    "        pd.DataFrame({\n",
    "            \"date\":pd.date_range(\"2017-08-16\", \"2017-08-31\").tolist(),\n",
    "            \"store_nbr\":c.store_nbr.iloc[i],\n",
    "            \"family\":c.family.iloc[i],\n",
    "            \"sales\":0\n",
    "        })\n",
    "    )\n",
    "zero_prediction = pd.concat(zero_prediction)\n",
    "del c\n",
    "gc.collect()\n",
    "zero_prediction"
   ]
  },
  {
   "cell_type": "code",
   "execution_count": null,
   "id": "c27a7327",
   "metadata": {},
   "outputs": [],
   "source": [
    "a = train.set_index(\"date\").groupby(\"family\").resample(\"D\").sales.sum().reset_index()\n",
    "px.line(a, x = \"date\", y= \"sales\", color = \"family\", title = \"Daily total sales of the family\")"
   ]
  },
  {
   "cell_type": "markdown",
   "id": "7cfd35d6",
   "metadata": {},
   "source": [
    "We are working with the stores. Well, there are plenty of products in the stores and we need to know which product family sells much more? Let's make a barplot to see that.\n",
    "The graph shows us GROCERY I and BEVERAGES are the top selling families."
   ]
  },
  {
   "cell_type": "code",
   "execution_count": null,
   "id": "3118c265",
   "metadata": {},
   "outputs": [],
   "source": [
    "a = train.groupby(\"family\").sales.mean().sort_values(ascending = False).reset_index()\n",
    "px.bar(a, y = \"family\", x=\"sales\", color = \"family\", title = \"Which product family preferred more?\")"
   ]
  },
  {
   "cell_type": "markdown",
   "id": "0b5e2bfa",
   "metadata": {},
   "source": [
    "How different can stores be from each other? The plot shows the patten of stores from different cities."
   ]
  },
  {
   "cell_type": "code",
   "execution_count": null,
   "id": "a2ab3bef",
   "metadata": {},
   "outputs": [],
   "source": [
    "d = pd.merge(train, stores)\n",
    "d[\"store_nbr\"] = d[\"store_nbr\"].astype(\"int8\")\n",
    "d[\"year\"] = d.date.dt.year\n",
    "px.line(d.groupby([\"city\", \"year\"]).sales.mean().reset_index(), x = \"year\", y = \"sales\", color = \"city\")"
   ]
  },
  {
   "cell_type": "markdown",
   "id": "a6c0998f",
   "metadata": {},
   "source": [
    "## Forecast and Visualization"
   ]
  },
  {
   "cell_type": "markdown",
   "id": "9eceed7e",
   "metadata": {},
   "source": [
    "As we have so much rows in out dataset, it will be easier to group data, as example, by week or month. The aggregation will be made by mean."
   ]
  },
  {
   "cell_type": "code",
   "execution_count": 2,
   "id": "49c6a6e5",
   "metadata": {},
   "outputs": [],
   "source": [
    "def grouped(df, key, freq, col):\n",
    "    \"\"\" GROUP DATA WITH CERTAIN FREQUENCY \"\"\"\n",
    "    df_grouped = df.groupby([pd.Grouper(key=key, freq=freq)]).agg(mean = (col, 'mean'))\n",
    "    df_grouped = df_grouped.reset_index()\n",
    "    return df_grouped"
   ]
  },
  {
   "cell_type": "code",
   "execution_count": null,
   "id": "61a42fb4",
   "metadata": {},
   "outputs": [],
   "source": [
    "df_grouped_trans_w = grouped(transactions, 'date', 'W', 'transactions')\n",
    "df_grouped_trans_w"
   ]
  },
  {
   "cell_type": "markdown",
   "id": "f2e1b660",
   "metadata": {},
   "source": [
    "for better forecasting we'll add 'time' column to our dataframe."
   ]
  },
  {
   "cell_type": "code",
   "execution_count": null,
   "id": "b940c904",
   "metadata": {},
   "outputs": [],
   "source": [
    "def add_time(df, key, freq, col):\n",
    "    \"\"\" ADD COLUMN 'TIME' TO DF \"\"\"\n",
    "    df_grouped = grouped(df, key, freq, col)\n",
    "    df_grouped['time'] = np.arange(len(df_grouped.index))\n",
    "    column_time = df_grouped.pop('time')\n",
    "    df_grouped.insert(1, 'time', column_time)\n",
    "    return df_grouped"
   ]
  },
  {
   "cell_type": "code",
   "execution_count": null,
   "id": "048e7035",
   "metadata": {},
   "outputs": [],
   "source": [
    "df_grouped_train_w = add_time(train, 'date', 'W', 'sales')\n",
    "df_grouped_train_m = add_time(train, 'date', 'M', 'sales')\n",
    "\n",
    "df_grouped_train_w.head() # check results"
   ]
  },
  {
   "cell_type": "markdown",
   "id": "629fd83a",
   "metadata": {},
   "source": [
    "After that, we can build some more plots. Linear regression is widely used in practice and adapts naturally to even complex forecasting tasks. The linear regression algorithm learns how to make a weighted sum from its input features."
   ]
  },
  {
   "cell_type": "code",
   "execution_count": null,
   "id": "d72638d6",
   "metadata": {},
   "outputs": [],
   "source": [
    "fig, axes = plt.subplots(nrows=3, ncols=1, figsize=(30,20))\n",
    "\n",
    "# TRANSACTIONS (WEEKLY)\n",
    "axes[0].plot('date', 'mean', data=df_grouped_trans_w, color='grey', marker='o')\n",
    "axes[0].set_title(\"Transactions (grouped by week)\", fontsize=20)\n",
    "\n",
    "# SALES (WEEKLY)\n",
    "axes[1].plot('time', 'mean', data=df_grouped_train_w, color='0.75')\n",
    "axes[1].set_title(\"Sales (grouped by week)\", fontsize=20)\n",
    "# linear regression\n",
    "axes[1] = sns.regplot(x='time', \n",
    "                      y='mean', \n",
    "                      data=df_grouped_train_w, \n",
    "                      scatter_kws=dict(color='0.75'), \n",
    "                      ax = axes[1])\n",
    "# SALES (MONTHLY)\n",
    "axes[2].plot('time', 'mean', data=df_grouped_train_m, color='0.75')\n",
    "axes[2].set_title(\"Sales (grouped by month)\", fontsize=20)\n",
    "# linear regression\n",
    "axes[2] = sns.regplot(x='time', \n",
    "                      y='mean', \n",
    "                      data=df_grouped_train_m, \n",
    "                      scatter_kws=dict(color='0.75'), \n",
    "                      line_kws={\"color\": \"red\"},\n",
    "                      ax = axes[2])\n",
    "\n",
    "plt.show()"
   ]
  },
  {
   "cell_type": "markdown",
   "id": "e6cf7a6b",
   "metadata": {},
   "source": [
    "### Lag features"
   ]
  },
  {
   "cell_type": "markdown",
   "id": "db2b902f",
   "metadata": {},
   "source": [
    "To make a lag feature we shift the observations of the target series so that they appear to have occured later in time. Here we've created a 1-step lag feature, though shifting by multiple steps is possible too. So, firstly, we should add lag to our data:"
   ]
  },
  {
   "cell_type": "code",
   "execution_count": null,
   "id": "ad1df38c",
   "metadata": {},
   "outputs": [],
   "source": [
    "def add_lag(df, key, freq, col, lag):\n",
    "    \"\"\" ADD LAG \"\"\"\n",
    "    df_grouped = grouped(df, key, freq, col)\n",
    "    name = 'Lag_' + str(lag)\n",
    "    df_grouped['Lag'] = df_grouped['mean'].shift(lag)\n",
    "    return df_grouped"
   ]
  },
  {
   "cell_type": "code",
   "execution_count": null,
   "id": "6860efef",
   "metadata": {},
   "outputs": [],
   "source": [
    "df_grouped_train_w_lag1 = add_lag(train, 'date', 'W', 'sales', 1)\n",
    "df_grouped_train_m_lag1 = add_lag(train, 'date', 'W', 'sales', 1)\n",
    "\n",
    "df_grouped_train_w_lag1.head() # check data"
   ]
  },
  {
   "cell_type": "markdown",
   "id": "181537dd",
   "metadata": {},
   "source": [
    "Let's build same plots, but with 'lag' feature:"
   ]
  },
  {
   "cell_type": "code",
   "execution_count": null,
   "id": "d258ddcf",
   "metadata": {},
   "outputs": [],
   "source": [
    "fig, axes = plt.subplots(nrows=2, ncols=1, figsize=(30,20))\n",
    "axes[0].plot('Lag', 'mean', data=df_grouped_train_w_lag1, color='0.75', linestyle=(0, (1, 10)))\n",
    "axes[0].set_title(\"Sales (grouped by week)\", fontsize=20)\n",
    "axes[0] = sns.regplot(x='Lag', \n",
    "                      y='mean', \n",
    "                      data=df_grouped_train_w_lag1, \n",
    "                      scatter_kws=dict(color='0.75'), \n",
    "                      ax = axes[0])\n",
    "\n",
    "\n",
    "axes[1].plot('Lag', 'mean', data=df_grouped_train_m_lag1, color='0.75', linestyle=(0, (1, 10)))\n",
    "axes[1].set_title(\"Sales (grouped by month)\", fontsize=20)\n",
    "axes[1] = sns.regplot(x='Lag', \n",
    "                      y='mean', \n",
    "                      data=df_grouped_train_m_lag1, \n",
    "                      scatter_kws=dict(color='0.75'), \n",
    "                      line_kws={\"color\": \"red\"},\n",
    "                      ax = axes[1])\n",
    "\n",
    "plt.show()"
   ]
  },
  {
   "cell_type": "markdown",
   "id": "e3114c17",
   "metadata": {},
   "source": [
    "The trend component of a time series represents a persistent, long-term change in the mean of the series. The trend is the slowest-moving part of a series, the part representing the largest time scale of importance. In a time series of product sales, an increasing trend might be the effect of a market expansion as more people become aware of the product year by year.\n",
    "\n",
    "To see what kind of trend a time series might have, we can use a moving average plot. To compute a moving average of a time series, we compute the average of the values within a sliding window of some defined width. Each point on the graph represents the average of all the values in the series that fall within the window on either side. The idea is to smooth out any short-term fluctuations in the series so that only long-term changes remain."
   ]
  },
  {
   "cell_type": "code",
   "execution_count": null,
   "id": "2bcff188",
   "metadata": {},
   "outputs": [],
   "source": [
    "def plot_moving_average(df, key, freq, col, window, min_periods, ax, title):\n",
    "    df_grouped = grouped(df, key, freq, col)\n",
    "    moving_average = df_grouped['mean'].rolling(window=window, center=True, min_periods=min_periods).mean()   \n",
    "    ax = df_grouped['mean'].plot(color='0.75', linestyle='dashdot', ax=ax)\n",
    "    ax = moving_average.plot(linewidth=3, color='g', ax=ax)\n",
    "    ax.set_title(title, fontsize=18)"
   ]
  },
  {
   "cell_type": "code",
   "execution_count": null,
   "id": "b30b7a49",
   "metadata": {},
   "outputs": [],
   "source": [
    "fig, axes = plt.subplots(nrows=2, ncols=1, figsize=(30,20))\n",
    "plot_moving_average(transactions, 'date', 'W', 'transactions', 7, 4, axes[0], 'Transactions Moving Average')\n",
    "plot_moving_average(train, 'date', 'W', 'sales', 7, 4, axes[1], 'Sales Moving Average')\n",
    "plt.show()"
   ]
  },
  {
   "cell_type": "markdown",
   "id": "057c5aa1",
   "metadata": {},
   "source": [
    "We'll use a function from the statsmodels library called DeterministicProcess. Using this function will help us avoid some tricky failure cases that can arise with time series and linear regression. "
   ]
  },
  {
   "cell_type": "code",
   "execution_count": null,
   "id": "7dfb6ba7",
   "metadata": {},
   "outputs": [],
   "source": []
  },
  {
   "cell_type": "code",
   "execution_count": null,
   "id": "6dcceeb2",
   "metadata": {},
   "outputs": [],
   "source": []
  },
  {
   "cell_type": "code",
   "execution_count": null,
   "id": "94d5b92f",
   "metadata": {},
   "outputs": [],
   "source": []
  }
 ],
 "metadata": {
  "kernelspec": {
   "display_name": "Python 3 (ipykernel)",
   "language": "python",
   "name": "python3"
  },
  "language_info": {
   "codemirror_mode": {
    "name": "ipython",
    "version": 3
   },
   "file_extension": ".py",
   "mimetype": "text/x-python",
   "name": "python",
   "nbconvert_exporter": "python",
   "pygments_lexer": "ipython3",
   "version": "3.9.12"
  }
 },
 "nbformat": 4,
 "nbformat_minor": 5
}
